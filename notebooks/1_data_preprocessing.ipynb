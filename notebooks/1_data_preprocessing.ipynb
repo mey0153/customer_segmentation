{
 "cells": [
  {
   "cell_type": "markdown",
   "metadata": {},
   "source": [
    "# Bank Customer Data Preprocessing"
   ]
  },
  {
   "cell_type": "markdown",
   "metadata": {},
   "source": [
    "## Importing python modules and data\n",
    "\n",
    "Import modules"
   ]
  },
  {
   "cell_type": "code",
   "execution_count": 1,
   "metadata": {},
   "outputs": [],
   "source": [
    "# Import modules\n",
    "import zipfile\n",
    "import pandas as pd\n",
    "import numpy as np\n",
    "import matplotlib as plt\n",
    "import sys"
   ]
  },
  {
   "cell_type": "markdown",
   "metadata": {},
   "source": [
    "Import data"
   ]
  },
  {
   "cell_type": "code",
   "execution_count": 2,
   "metadata": {},
   "outputs": [],
   "source": [
    "# Import data - Zip file\n",
    "path_to_zip_file = r'D:\\Project\\Bank customer segmentation\\customer_segmentation\\data\\raw\\bank_transactions.csv.zip'\n",
    "with zipfile.ZipFile(path_to_zip_file, 'r') as zip_ref:\n",
    "    zip_ref.extractall(r'D:\\Project\\Bank customer segmentation\\customer_segmentation\\data\\raw')"
   ]
  },
  {
   "cell_type": "code",
   "execution_count": 2,
   "metadata": {},
   "outputs": [
    {
     "data": {
      "text/html": [
       "<div>\n",
       "<style scoped>\n",
       "    .dataframe tbody tr th:only-of-type {\n",
       "        vertical-align: middle;\n",
       "    }\n",
       "\n",
       "    .dataframe tbody tr th {\n",
       "        vertical-align: top;\n",
       "    }\n",
       "\n",
       "    .dataframe thead th {\n",
       "        text-align: right;\n",
       "    }\n",
       "</style>\n",
       "<table border=\"1\" class=\"dataframe\">\n",
       "  <thead>\n",
       "    <tr style=\"text-align: right;\">\n",
       "      <th></th>\n",
       "      <th>TransactionID</th>\n",
       "      <th>CustomerID</th>\n",
       "      <th>CustomerDOB</th>\n",
       "      <th>CustGender</th>\n",
       "      <th>CustLocation</th>\n",
       "      <th>CustAccountBalance</th>\n",
       "      <th>TransactionDate</th>\n",
       "      <th>TransactionTime</th>\n",
       "      <th>TransactionAmount (INR)</th>\n",
       "    </tr>\n",
       "  </thead>\n",
       "  <tbody>\n",
       "    <tr>\n",
       "      <th>0</th>\n",
       "      <td>T1</td>\n",
       "      <td>C5841053</td>\n",
       "      <td>10/1/94</td>\n",
       "      <td>F</td>\n",
       "      <td>JAMSHEDPUR</td>\n",
       "      <td>17819.05</td>\n",
       "      <td>2/8/16</td>\n",
       "      <td>143207</td>\n",
       "      <td>25.0</td>\n",
       "    </tr>\n",
       "    <tr>\n",
       "      <th>1</th>\n",
       "      <td>T2</td>\n",
       "      <td>C2142763</td>\n",
       "      <td>4/4/57</td>\n",
       "      <td>M</td>\n",
       "      <td>JHAJJAR</td>\n",
       "      <td>2270.69</td>\n",
       "      <td>2/8/16</td>\n",
       "      <td>141858</td>\n",
       "      <td>27999.0</td>\n",
       "    </tr>\n",
       "    <tr>\n",
       "      <th>2</th>\n",
       "      <td>T3</td>\n",
       "      <td>C4417068</td>\n",
       "      <td>26/11/96</td>\n",
       "      <td>F</td>\n",
       "      <td>MUMBAI</td>\n",
       "      <td>17874.44</td>\n",
       "      <td>2/8/16</td>\n",
       "      <td>142712</td>\n",
       "      <td>459.0</td>\n",
       "    </tr>\n",
       "    <tr>\n",
       "      <th>3</th>\n",
       "      <td>T4</td>\n",
       "      <td>C5342380</td>\n",
       "      <td>14/9/73</td>\n",
       "      <td>F</td>\n",
       "      <td>MUMBAI</td>\n",
       "      <td>866503.21</td>\n",
       "      <td>2/8/16</td>\n",
       "      <td>142714</td>\n",
       "      <td>2060.0</td>\n",
       "    </tr>\n",
       "    <tr>\n",
       "      <th>4</th>\n",
       "      <td>T5</td>\n",
       "      <td>C9031234</td>\n",
       "      <td>24/3/88</td>\n",
       "      <td>F</td>\n",
       "      <td>NAVI MUMBAI</td>\n",
       "      <td>6714.43</td>\n",
       "      <td>2/8/16</td>\n",
       "      <td>181156</td>\n",
       "      <td>1762.5</td>\n",
       "    </tr>\n",
       "  </tbody>\n",
       "</table>\n",
       "</div>"
      ],
      "text/plain": [
       "  TransactionID CustomerID CustomerDOB CustGender CustLocation  \\\n",
       "0            T1   C5841053     10/1/94          F   JAMSHEDPUR   \n",
       "1            T2   C2142763      4/4/57          M      JHAJJAR   \n",
       "2            T3   C4417068    26/11/96          F       MUMBAI   \n",
       "3            T4   C5342380     14/9/73          F       MUMBAI   \n",
       "4            T5   C9031234     24/3/88          F  NAVI MUMBAI   \n",
       "\n",
       "   CustAccountBalance TransactionDate  TransactionTime  \\\n",
       "0            17819.05          2/8/16           143207   \n",
       "1             2270.69          2/8/16           141858   \n",
       "2            17874.44          2/8/16           142712   \n",
       "3           866503.21          2/8/16           142714   \n",
       "4             6714.43          2/8/16           181156   \n",
       "\n",
       "   TransactionAmount (INR)  \n",
       "0                     25.0  \n",
       "1                  27999.0  \n",
       "2                    459.0  \n",
       "3                   2060.0  \n",
       "4                   1762.5  "
      ]
     },
     "execution_count": 2,
     "metadata": {},
     "output_type": "execute_result"
    }
   ],
   "source": [
    "# Import zip file\n",
    "filepath = r'D:\\Project\\Bank customer segmentation\\customer_segmentation\\data\\raw\\bank_transactions.csv'\n",
    "with open(filepath,'r'):\n",
    "    df = pd.read_csv(filepath)\n",
    "\n",
    "# View file import\n",
    "df.head()"
   ]
  },
  {
   "cell_type": "markdown",
   "metadata": {},
   "source": [
    "## Dataset information"
   ]
  },
  {
   "cell_type": "code",
   "execution_count": 6,
   "metadata": {},
   "outputs": [
    {
     "name": "stdout",
     "output_type": "stream",
     "text": [
      "No of rows:  1048567 \n",
      " No of columns:  9\n",
      "<class 'pandas.core.frame.DataFrame'>\n",
      "RangeIndex: 1048567 entries, 0 to 1048566\n",
      "Data columns (total 9 columns):\n",
      " #   Column                   Non-Null Count    Dtype  \n",
      "---  ------                   --------------    -----  \n",
      " 0   TransactionID            1048567 non-null  object \n",
      " 1   CustomerID               1048567 non-null  object \n",
      " 2   CustomerDOB              1045170 non-null  object \n",
      " 3   CustGender               1047467 non-null  object \n",
      " 4   CustLocation             1048416 non-null  object \n",
      " 5   CustAccountBalance       1046198 non-null  float64\n",
      " 6   TransactionDate          1048567 non-null  object \n",
      " 7   TransactionTime          1048567 non-null  int64  \n",
      " 8   TransactionAmount (INR)  1048567 non-null  float64\n",
      "dtypes: float64(2), int64(1), object(6)\n",
      "memory usage: 72.0+ MB\n",
      "None\n",
      "Index(['TransactionID', 'CustomerID', 'CustomerDOB', 'CustGender',\n",
      "       'CustLocation', 'CustAccountBalance', 'TransactionDate',\n",
      "       'TransactionTime', 'TransactionAmount (INR)'],\n",
      "      dtype='object')\n"
     ]
    }
   ],
   "source": [
    "# Create output file to store results\n",
    "# outfile = r'D:\\Project\\Bank customer segmentation\\customer_segmentation\\reports\\1_outfile_eda.txt'\n",
    "# Shape of dataset\n",
    "nrows, ncols = df.shape\n",
    "print('No of rows: ', nrows,'\\n','No of columns: ', ncols)\n",
    "# Dataset info\n",
    "print(df.info())\n",
    "\n",
    "# Dataset columns\n",
    "column_names = df.columns\n",
    "print(df.columns)"
   ]
  },
  {
   "cell_type": "markdown",
   "metadata": {},
   "source": [
    "There are 1048567 rows and 9 columns\n"
   ]
  },
  {
   "cell_type": "markdown",
   "metadata": {},
   "source": [
    "## Data Integrity"
   ]
  },
  {
   "cell_type": "code",
   "execution_count": 9,
   "metadata": {},
   "outputs": [
    {
     "name": "stdout",
     "output_type": "stream",
     "text": [
      "6953\n",
      "TransactionID                 0\n",
      "CustomerID                    0\n",
      "CustomerDOB                3397\n",
      "CustGender                 1100\n",
      "CustLocation                151\n",
      "CustAccountBalance         2369\n",
      "TransactionDate               0\n",
      "TransactionTime               0\n",
      "TransactionAmount (INR)       0\n",
      "dtype: int64\n",
      "Percentage of null values:  TransactionID              0.000000\n",
      "CustomerID                 0.000000\n",
      "CustomerDOB                0.323966\n",
      "CustGender                 0.104905\n",
      "CustLocation               0.014401\n",
      "CustAccountBalance         0.225927\n",
      "TransactionDate            0.000000\n",
      "TransactionTime            0.000000\n",
      "TransactionAmount (INR)    0.000000\n",
      "dtype: float64\n"
     ]
    }
   ],
   "source": [
    "# Display rows with null values \n",
    "missing_rows = df[df.isnull().any(axis=1)] \n",
    "# print(missing_rows) \n",
    "# Number of rows with missing vales\n",
    "print(len(missing_rows)) \n",
    "# Missing values count\n",
    "null_values = df.isnull().sum()\n",
    "print(null_values)\n",
    "# Percentage of null values in each column\n",
    "percent_null_values = null_values/nrows * 100\n",
    "print('Percentage of null values: ', percent_null_values)\n"
   ]
  },
  {
   "cell_type": "markdown",
   "metadata": {},
   "source": [
    "- 6953 rows have missing values. This is abotu 0.663 % of the total number of rows\n",
    "- TransactionID, CustomerID, TransactionDate, TransactionTime, TransactionAmount have no missing values.  \n",
    "- CustomerDOB has 3397 values missing which is about  0.324 % of the number of values.\n",
    "- CustGender has 1100 values missing which is about 0.104 % of the total number of values.\n",
    "- CustLocation has 151 values missing which is about 0.0.014 % of the total number of values.\n",
    "- CustAccountBalance has 2369 values missing which is about 0.226 % of the total number of values."
   ]
  },
  {
   "cell_type": "markdown",
   "metadata": {},
   "source": [
    "## Drop all missing rows"
   ]
  },
  {
   "cell_type": "code",
   "execution_count": 3,
   "metadata": {},
   "outputs": [
    {
     "name": "stdout",
     "output_type": "stream",
     "text": [
      "Empty DataFrame\n",
      "Columns: [TransactionID, CustomerID, CustomerDOB, CustGender, CustLocation, CustAccountBalance, TransactionDate, TransactionTime, TransactionAmount (INR)]\n",
      "Index: []\n",
      "(1041614, 9)\n",
      "<class 'pandas.core.frame.DataFrame'>\n",
      "RangeIndex: 1041614 entries, 0 to 1041613\n",
      "Data columns (total 9 columns):\n",
      " #   Column                   Non-Null Count    Dtype  \n",
      "---  ------                   --------------    -----  \n",
      " 0   TransactionID            1041614 non-null  object \n",
      " 1   CustomerID               1041614 non-null  object \n",
      " 2   CustomerDOB              1041614 non-null  object \n",
      " 3   CustGender               1041614 non-null  object \n",
      " 4   CustLocation             1041614 non-null  object \n",
      " 5   CustAccountBalance       1041614 non-null  float64\n",
      " 6   TransactionDate          1041614 non-null  object \n",
      " 7   TransactionTime          1041614 non-null  int64  \n",
      " 8   TransactionAmount (INR)  1041614 non-null  float64\n",
      "dtypes: float64(2), int64(1), object(6)\n",
      "memory usage: 71.5+ MB\n",
      "None\n"
     ]
    }
   ],
   "source": [
    "# Drop rows with missing values \n",
    "df=df.dropna(axis=0).reset_index(drop=True) \n",
    "# Verify rows are dropped \n",
    "print(df[df.isnull().any(axis=1)]) # verified \n",
    "# Update shape of dataframe \n",
    "print(df.shape)\n",
    "print(df.info())\n",
    "nrows, ncols = df.shape #  1041614 rows, 9 columns"
   ]
  },
  {
   "cell_type": "markdown",
   "metadata": {},
   "source": [
    "### Check for duplicated values"
   ]
  },
  {
   "cell_type": "markdown",
   "metadata": {},
   "source": [
    "Only transaction Id needs to be checked. These cannot be duplicated since each transaction must be unique."
   ]
  },
  {
   "cell_type": "code",
   "execution_count": 4,
   "metadata": {},
   "outputs": [
    {
     "name": "stdout",
     "output_type": "stream",
     "text": [
      "TransactionID              1041614\n",
      "CustomerID                  879358\n",
      "CustomerDOB                  17233\n",
      "CustGender                       3\n",
      "CustLocation                  9275\n",
      "CustAccountBalance          160723\n",
      "TransactionDate                 55\n",
      "TransactionTime              81855\n",
      "TransactionAmount (INR)      92391\n",
      "dtype: int64\n",
      "False\n",
      "Empty DataFrame\n",
      "Columns: [TransactionID, CustomerID, CustomerDOB, CustGender, CustLocation, CustAccountBalance, TransactionDate, TransactionTime, TransactionAmount (INR)]\n",
      "Index: []\n"
     ]
    }
   ],
   "source": [
    "####---Check Redundant samples---#### \n",
    "print(df.nunique()) \n",
    "# No attributes with single value \n",
    "# ####---Check Duplicated Rows---#### \n",
    "# Calculate duplicates \n",
    "dupes = df.duplicated() # report if there are any duplicates \n",
    "print(dupes.any()) \n",
    "# List all duplicate rows \n",
    "print(df[dupes]) # duplicated rows\n"
   ]
  },
  {
   "cell_type": "markdown",
   "metadata": {},
   "source": [
    "#### Save dataset\n"
   ]
  },
  {
   "cell_type": "code",
   "execution_count": 6,
   "metadata": {},
   "outputs": [],
   "source": [
    "# Save cleaned dataframe to csv\n",
    "df.to_csv(r'D:\\Project\\Bank customer segmentation\\customer_segmentation\\data\\interim\\bank_transctions_cleaned_I.csv')"
   ]
  },
  {
   "cell_type": "markdown",
   "metadata": {},
   "source": [
    "### Advanced data integrity verfications\n"
   ]
  },
  {
   "cell_type": "code",
   "execution_count": 27,
   "metadata": {},
   "outputs": [],
   "source": [
    "# Unique categories in data\n",
    "# Customer gender\n",
    "cust_gender_types = df['CustGender'].unique()    # 3 genders\n",
    "# Customer location\n",
    "cust_location = df['CustLocation'].unique()    # 9275 locations\n",
    "# Customer ID\n",
    "cust_id = df['CustomerID'].unique()    # 879358"
   ]
  },
  {
   "cell_type": "markdown",
   "metadata": {},
   "source": [
    "### Advanced segmentation\n",
    "- Segmentation by age  \n",
    "- Segmentation by Transactions - amount, date, and time  \n",
    "- Segmentation by account balance\n",
    "- Segment by location aggregated to state or region"
   ]
  },
  {
   "cell_type": "markdown",
   "metadata": {},
   "source": [
    "### Check Date of Birth"
   ]
  },
  {
   "cell_type": "code",
   "execution_count": 10,
   "metadata": {},
   "outputs": [
    {
     "data": {
      "text/plain": [
       "1/1/1800    56292\n",
       "1/1/89        809\n",
       "1/1/90        784\n",
       "6/8/91        698\n",
       "1/1/91        665\n",
       "            ...  \n",
       "2/12/51         1\n",
       "20/3/52         1\n",
       "26/9/47         1\n",
       "4/10/41         1\n",
       "24/10/44        1\n",
       "Name: CustomerDOB, Length: 17233, dtype: int64"
      ]
     },
     "execution_count": 10,
     "metadata": {},
     "output_type": "execute_result"
    }
   ],
   "source": [
    "df['CustomerDOB'].value_counts()"
   ]
  },
  {
   "cell_type": "markdown",
   "metadata": {},
   "source": [
    "## Save output"
   ]
  },
  {
   "cell_type": "markdown",
   "metadata": {},
   "source": [
    "### Get unique customer ID"
   ]
  }
 ],
 "metadata": {
  "kernelspec": {
   "display_name": "Python 3.9.7 ('comp809')",
   "language": "python",
   "name": "python3"
  },
  "language_info": {
   "codemirror_mode": {
    "name": "ipython",
    "version": 3
   },
   "file_extension": ".py",
   "mimetype": "text/x-python",
   "name": "python",
   "nbconvert_exporter": "python",
   "pygments_lexer": "ipython3",
   "version": "3.9.7"
  },
  "orig_nbformat": 4,
  "vscode": {
   "interpreter": {
    "hash": "c642db6cdcf018ef5113256104ce7ce88d062db8cff9d05bbf49d4de8bb0cb1e"
   }
  }
 },
 "nbformat": 4,
 "nbformat_minor": 2
}
